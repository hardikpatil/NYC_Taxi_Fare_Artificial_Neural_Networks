{
 "cells": [
  {
   "cell_type": "markdown",
   "metadata": {},
   "source": [
    "LSTM"
   ]
  },
  {
   "cell_type": "code",
   "execution_count": 15,
   "metadata": {},
   "outputs": [],
   "source": [
    "import pandas as pd\n",
    "import numpy as np\n",
    "from sklearn.preprocessing import MinMaxScaler\n",
    "import keras.backend as K\n",
    "from keras.layers import LSTM\n",
    "from keras.models import Sequential\n",
    "from keras.layers import Dense\n",
    "from keras.layers import Dropout\n",
    "import matplotlib.pyplot as plt\n",
    "from keras import optimizers\n",
    "\n",
    "from sklearn.metrics import mean_squared_error"
   ]
  },
  {
   "cell_type": "code",
   "execution_count": 16,
   "metadata": {},
   "outputs": [],
   "source": [
    "df = pd.read_csv('clean_train.csv', \n",
    "                 parse_dates={'dt' : ['pickup_datetime']}, infer_datetime_format=True, \n",
    "                 low_memory=False, na_values=['nan','?'], index_col='dt',nrows=2000000)"
   ]
  },
  {
   "cell_type": "code",
   "execution_count": 17,
   "metadata": {},
   "outputs": [
    {
     "data": {
      "text/plain": [
       "<bound method NDFrame.describe of                            fare_amount  pickup_longitude  pickup_latitude  \\\n",
       "dt                                                                          \n",
       "2009-06-15 17:26:21+00:00          4.5        -73.844311        40.721319   \n",
       "2010-01-05 16:52:16+00:00         16.9        -74.016048        40.711303   \n",
       "2011-08-18 00:35:00+00:00          5.7        -73.982738        40.761270   \n",
       "2012-04-21 04:30:42+00:00          7.7        -73.987130        40.733143   \n",
       "2010-03-09 07:51:00+00:00          5.3        -73.968095        40.768008   \n",
       "...                                ...               ...              ...   \n",
       "2014-10-09 11:57:07+00:00         14.0        -74.010142        40.720534   \n",
       "2009-07-27 19:37:01+00:00          6.5        -73.965706        40.759476   \n",
       "2010-01-23 16:09:00+00:00          6.1        -73.981353        40.758682   \n",
       "2010-06-23 19:11:41+00:00          6.5        -73.988788        40.736638   \n",
       "2010-12-28 01:00:43+00:00          4.1        -73.982422        40.762528   \n",
       "\n",
       "                           dropoff_longitude  dropoff_latitude  \\\n",
       "dt                                                               \n",
       "2009-06-15 17:26:21+00:00         -73.841610         40.712278   \n",
       "2010-01-05 16:52:16+00:00         -73.979268         40.782004   \n",
       "2011-08-18 00:35:00+00:00         -73.991242         40.750562   \n",
       "2012-04-21 04:30:42+00:00         -73.991567         40.758092   \n",
       "2010-03-09 07:51:00+00:00         -73.956655         40.783762   \n",
       "...                                      ...               ...   \n",
       "2014-10-09 11:57:07+00:00         -73.992643         40.734680   \n",
       "2009-07-27 19:37:01+00:00         -73.955417         40.773013   \n",
       "2010-01-23 16:09:00+00:00         -73.967937         40.765437   \n",
       "2010-06-23 19:11:41+00:00         -73.974409         40.756675   \n",
       "2010-12-28 01:00:43+00:00         -73.990698         40.761077   \n",
       "\n",
       "                           passenger_count  \n",
       "dt                                          \n",
       "2009-06-15 17:26:21+00:00                1  \n",
       "2010-01-05 16:52:16+00:00                1  \n",
       "2011-08-18 00:35:00+00:00                2  \n",
       "2012-04-21 04:30:42+00:00                1  \n",
       "2010-03-09 07:51:00+00:00                1  \n",
       "...                                    ...  \n",
       "2014-10-09 11:57:07+00:00                1  \n",
       "2009-07-27 19:37:01+00:00                1  \n",
       "2010-01-23 16:09:00+00:00                2  \n",
       "2010-06-23 19:11:41+00:00                4  \n",
       "2010-12-28 01:00:43+00:00                1  \n",
       "\n",
       "[1048575 rows x 6 columns]>"
      ]
     },
     "execution_count": 17,
     "metadata": {},
     "output_type": "execute_result"
    }
   ],
   "source": [
    "df.describe"
   ]
  },
  {
   "cell_type": "code",
   "execution_count": 18,
   "metadata": {},
   "outputs": [],
   "source": [
    "def series_to_supervised(data, n_in=1, n_out=1, dropnan=True):\n",
    "    n_vars = 1 if type(data) is list else data.shape[1]\n",
    "    dff = pd.DataFrame(data)\n",
    "    cols, names = list(), list()\n",
    "    # input sequence (t-n, ... t-1)\n",
    "    for i in range(n_in, 0, -1):\n",
    "        cols.append(dff.shift(i))\n",
    "        names += [('var%d(t-%d)' % (j+1, i)) for j in range(n_vars)]\n",
    "    # forecast sequence (t, t+1, ... t+n)\n",
    "    for i in range(0, n_out):\n",
    "        cols.append(dff.shift(-i))\n",
    "        if i == 0:\n",
    "            names += [('var%d(t)' % (j+1)) for j in range(n_vars)]\n",
    "        else:\n",
    "            names += [('var%d(t+%d)' % (j+1, i)) for j in range(n_vars)]\n",
    "    # put it all together\n",
    "    agg = pd.concat(cols, axis=1)\n",
    "    agg.columns = names\n",
    "    # drop rows with NaN values\n",
    "    if dropnan:\n",
    "        agg.dropna(inplace=True)\n",
    "    return agg"
   ]
  },
  {
   "cell_type": "code",
   "execution_count": 19,
   "metadata": {},
   "outputs": [
    {
     "data": {
      "text/html": [
       "<div>\n",
       "<style scoped>\n",
       "    .dataframe tbody tr th:only-of-type {\n",
       "        vertical-align: middle;\n",
       "    }\n",
       "\n",
       "    .dataframe tbody tr th {\n",
       "        vertical-align: top;\n",
       "    }\n",
       "\n",
       "    .dataframe thead th {\n",
       "        text-align: right;\n",
       "    }\n",
       "</style>\n",
       "<table border=\"1\" class=\"dataframe\">\n",
       "  <thead>\n",
       "    <tr style=\"text-align: right;\">\n",
       "      <th></th>\n",
       "      <th>var1(t-1)</th>\n",
       "      <th>var2(t-1)</th>\n",
       "      <th>var3(t-1)</th>\n",
       "      <th>var4(t-1)</th>\n",
       "      <th>var5(t-1)</th>\n",
       "      <th>var6(t-1)</th>\n",
       "      <th>var1(t)</th>\n",
       "    </tr>\n",
       "  </thead>\n",
       "  <tbody>\n",
       "    <tr>\n",
       "      <td>1</td>\n",
       "      <td>0.0090</td>\n",
       "      <td>0.406069</td>\n",
       "      <td>0.184886</td>\n",
       "      <td>0.391800</td>\n",
       "      <td>0.174736</td>\n",
       "      <td>0.111111</td>\n",
       "      <td>0.0338</td>\n",
       "    </tr>\n",
       "    <tr>\n",
       "      <td>2</td>\n",
       "      <td>0.0338</td>\n",
       "      <td>0.298003</td>\n",
       "      <td>0.176517</td>\n",
       "      <td>0.307531</td>\n",
       "      <td>0.232143</td>\n",
       "      <td>0.111111</td>\n",
       "      <td>0.0114</td>\n",
       "    </tr>\n",
       "    <tr>\n",
       "      <td>3</td>\n",
       "      <td>0.0114</td>\n",
       "      <td>0.318963</td>\n",
       "      <td>0.218268</td>\n",
       "      <td>0.300200</td>\n",
       "      <td>0.206256</td>\n",
       "      <td>0.222222</td>\n",
       "      <td>0.0154</td>\n",
       "    </tr>\n",
       "    <tr>\n",
       "      <td>4</td>\n",
       "      <td>0.0154</td>\n",
       "      <td>0.316200</td>\n",
       "      <td>0.194766</td>\n",
       "      <td>0.300002</td>\n",
       "      <td>0.212456</td>\n",
       "      <td>0.111111</td>\n",
       "      <td>0.0106</td>\n",
       "    </tr>\n",
       "    <tr>\n",
       "      <td>5</td>\n",
       "      <td>0.0106</td>\n",
       "      <td>0.328177</td>\n",
       "      <td>0.223898</td>\n",
       "      <td>0.321373</td>\n",
       "      <td>0.233591</td>\n",
       "      <td>0.111111</td>\n",
       "      <td>0.0242</td>\n",
       "    </tr>\n",
       "  </tbody>\n",
       "</table>\n",
       "</div>"
      ],
      "text/plain": [
       "   var1(t-1)  var2(t-1)  var3(t-1)  var4(t-1)  var5(t-1)  var6(t-1)  var1(t)\n",
       "1     0.0090   0.406069   0.184886   0.391800   0.174736   0.111111   0.0338\n",
       "2     0.0338   0.298003   0.176517   0.307531   0.232143   0.111111   0.0114\n",
       "3     0.0114   0.318963   0.218268   0.300200   0.206256   0.222222   0.0154\n",
       "4     0.0154   0.316200   0.194766   0.300002   0.212456   0.111111   0.0106\n",
       "5     0.0106   0.328177   0.223898   0.321373   0.233591   0.111111   0.0242"
      ]
     },
     "execution_count": 19,
     "metadata": {},
     "output_type": "execute_result"
    }
   ],
   "source": [
    "\n",
    "values = df.values\n",
    "values = values.astype('float64')\n",
    "scaler = MinMaxScaler(feature_range=(0, 1))\n",
    "scaled = scaler.fit_transform(values)\n",
    "\n",
    "reframed = series_to_supervised(scaled, 1, 1)\n",
    "reframed.drop(reframed.columns[[7,8,9,10,11]],axis=1,inplace=True)\n",
    "reframed.head()"
   ]
  },
  {
   "cell_type": "code",
   "execution_count": 20,
   "metadata": {},
   "outputs": [
    {
     "name": "stdout",
     "output_type": "stream",
     "text": [
      "(1048574, 7)\n"
     ]
    }
   ],
   "source": [
    "values=reframed.values\n",
    "print(values.shape)"
   ]
  },
  {
   "cell_type": "code",
   "execution_count": 21,
   "metadata": {},
   "outputs": [
    {
     "name": "stdout",
     "output_type": "stream",
     "text": [
      "(1000000, 1, 6) (1000000,) (48574, 1, 6) (48574,)\n",
      "0.0114\n"
     ]
    }
   ],
   "source": [
    "train = values[:1000000,:]\n",
    "test= values[1000000:,:]\n",
    "\n",
    "train_x, train_y = train[:, :-1], train[:, -1]\n",
    "test_x, test_y = test[:, :-1], test[:, -1]\n",
    "\n",
    "train_x = train_x.reshape((train_x.shape[0], 1, train_x.shape[1]))\n",
    "test_x = test_x.reshape((test_x.shape[0], 1, test_x.shape[1]))\n",
    "\n",
    "print(train_x.shape, train_y.shape, test_x.shape, test_y.shape)\n",
    "print(train_y[1])"
   ]
  },
  {
   "cell_type": "code",
   "execution_count": 22,
   "metadata": {},
   "outputs": [
    {
     "name": "stdout",
     "output_type": "stream",
     "text": [
      "WARNING:tensorflow:From c:\\work\\lib\\site-packages\\tensorflow\\python\\ops\\resource_variable_ops.py:435: colocate_with (from tensorflow.python.framework.ops) is deprecated and will be removed in a future version.\n",
      "Instructions for updating:\n",
      "Colocations handled automatically by placer.\n"
     ]
    }
   ],
   "source": [
    "def rmse (y_true, y_pred):\n",
    "    return K.sqrt(K.mean(K.square(y_pred - y_true), axis=-1))\n",
    "\n",
    "model = Sequential()\n",
    "model.add(LSTM(30, input_shape=(train_X.shape[1], train_X.shape[2])))\n",
    "model.add(Dropout(0.2))\n",
    "model.add(Dense(1))\n",
    "model.compile(loss='mean_squared_error', optimizer='adam',metrics=[rmse])"
   ]
  },
  {
   "cell_type": "code",
   "execution_count": 23,
   "metadata": {},
   "outputs": [
    {
     "name": "stdout",
     "output_type": "stream",
     "text": [
      "WARNING:tensorflow:From c:\\work\\lib\\site-packages\\tensorflow\\python\\ops\\math_ops.py:3066: to_int32 (from tensorflow.python.ops.math_ops) is deprecated and will be removed in a future version.\n",
      "Instructions for updating:\n",
      "Use tf.cast instead.\n",
      "Train on 1000000 samples, validate on 48574 samples\n",
      "Epoch 1/80\n",
      " - 3s - loss: 5.3894e-04 - rmse: 0.0155 - val_loss: 3.6688e-04 - val_rmse: 0.0120\n",
      "Epoch 2/80\n",
      " - 3s - loss: 4.0335e-04 - rmse: 0.0127 - val_loss: 3.6629e-04 - val_rmse: 0.0120\n",
      "Epoch 3/80\n",
      " - 4s - loss: 3.8887e-04 - rmse: 0.0123 - val_loss: 3.6585e-04 - val_rmse: 0.0119\n",
      "Epoch 4/80\n",
      " - 4s - loss: 3.8465e-04 - rmse: 0.0122 - val_loss: 3.6553e-04 - val_rmse: 0.0119\n",
      "Epoch 5/80\n",
      " - 4s - loss: 3.8300e-04 - rmse: 0.0121 - val_loss: 3.6528e-04 - val_rmse: 0.0119\n",
      "Epoch 6/80\n",
      " - 4s - loss: 3.8199e-04 - rmse: 0.0121 - val_loss: 3.6507e-04 - val_rmse: 0.0119\n",
      "Epoch 7/80\n",
      " - 4s - loss: 3.8132e-04 - rmse: 0.0121 - val_loss: 3.6494e-04 - val_rmse: 0.0119\n",
      "Epoch 8/80\n",
      " - 4s - loss: 3.8063e-04 - rmse: 0.0121 - val_loss: 3.6484e-04 - val_rmse: 0.0119\n",
      "Epoch 9/80\n",
      " - 4s - loss: 3.8002e-04 - rmse: 0.0121 - val_loss: 3.6477e-04 - val_rmse: 0.0119\n",
      "Epoch 10/80\n",
      " - 4s - loss: 3.7961e-04 - rmse: 0.0121 - val_loss: 3.6473e-04 - val_rmse: 0.0119\n",
      "Epoch 11/80\n",
      " - 3s - loss: 3.7928e-04 - rmse: 0.0120 - val_loss: 3.6470e-04 - val_rmse: 0.0119\n",
      "Epoch 12/80\n",
      " - 3s - loss: 3.7902e-04 - rmse: 0.0120 - val_loss: 3.6467e-04 - val_rmse: 0.0119\n",
      "Epoch 13/80\n",
      " - 3s - loss: 3.7873e-04 - rmse: 0.0120 - val_loss: 3.6468e-04 - val_rmse: 0.0119\n",
      "Epoch 14/80\n",
      " - 3s - loss: 3.7858e-04 - rmse: 0.0120 - val_loss: 3.6469e-04 - val_rmse: 0.0119\n",
      "Epoch 15/80\n",
      " - 4s - loss: 3.7845e-04 - rmse: 0.0120 - val_loss: 3.6470e-04 - val_rmse: 0.0119\n",
      "Epoch 16/80\n",
      " - 3s - loss: 3.7833e-04 - rmse: 0.0120 - val_loss: 3.6470e-04 - val_rmse: 0.0119\n",
      "Epoch 17/80\n",
      " - 3s - loss: 3.7821e-04 - rmse: 0.0120 - val_loss: 3.6473e-04 - val_rmse: 0.0119\n",
      "Epoch 18/80\n",
      " - 3s - loss: 3.7810e-04 - rmse: 0.0120 - val_loss: 3.6470e-04 - val_rmse: 0.0119\n",
      "Epoch 19/80\n",
      " - 4s - loss: 3.7804e-04 - rmse: 0.0120 - val_loss: 3.6466e-04 - val_rmse: 0.0119\n",
      "Epoch 20/80\n",
      " - 3s - loss: 3.7802e-04 - rmse: 0.0120 - val_loss: 3.6466e-04 - val_rmse: 0.0119\n",
      "Epoch 21/80\n",
      " - 3s - loss: 3.7795e-04 - rmse: 0.0120 - val_loss: 3.6465e-04 - val_rmse: 0.0119\n",
      "Epoch 22/80\n",
      " - 4s - loss: 3.7790e-04 - rmse: 0.0120 - val_loss: 3.6467e-04 - val_rmse: 0.0119\n",
      "Epoch 23/80\n",
      " - 3s - loss: 3.7780e-04 - rmse: 0.0120 - val_loss: 3.6468e-04 - val_rmse: 0.0119\n",
      "Epoch 24/80\n",
      " - 3s - loss: 3.7785e-04 - rmse: 0.0120 - val_loss: 3.6470e-04 - val_rmse: 0.0119\n",
      "Epoch 25/80\n",
      " - 3s - loss: 3.7784e-04 - rmse: 0.0120 - val_loss: 3.6472e-04 - val_rmse: 0.0119\n",
      "Epoch 26/80\n",
      " - 3s - loss: 3.7782e-04 - rmse: 0.0120 - val_loss: 3.6478e-04 - val_rmse: 0.0118\n",
      "Epoch 27/80\n",
      " - 3s - loss: 3.7784e-04 - rmse: 0.0120 - val_loss: 3.6483e-04 - val_rmse: 0.0118\n",
      "Epoch 28/80\n",
      " - 4s - loss: 3.7781e-04 - rmse: 0.0120 - val_loss: 3.6487e-04 - val_rmse: 0.0118\n",
      "Epoch 29/80\n",
      " - 3s - loss: 3.7778e-04 - rmse: 0.0120 - val_loss: 3.6494e-04 - val_rmse: 0.0118\n",
      "Epoch 30/80\n",
      " - 3s - loss: 3.7777e-04 - rmse: 0.0120 - val_loss: 3.6506e-04 - val_rmse: 0.0117\n",
      "Epoch 31/80\n",
      " - 4s - loss: 3.7775e-04 - rmse: 0.0120 - val_loss: 3.6501e-04 - val_rmse: 0.0117\n",
      "Epoch 32/80\n",
      " - 4s - loss: 3.7774e-04 - rmse: 0.0120 - val_loss: 3.6500e-04 - val_rmse: 0.0117\n",
      "Epoch 33/80\n",
      " - 3s - loss: 3.7770e-04 - rmse: 0.0120 - val_loss: 3.6497e-04 - val_rmse: 0.0118\n",
      "Epoch 34/80\n",
      " - 3s - loss: 3.7770e-04 - rmse: 0.0120 - val_loss: 3.6500e-04 - val_rmse: 0.0117\n",
      "Epoch 35/80\n",
      " - 3s - loss: 3.7766e-04 - rmse: 0.0120 - val_loss: 3.6499e-04 - val_rmse: 0.0117\n",
      "Epoch 36/80\n",
      " - 3s - loss: 3.7766e-04 - rmse: 0.0120 - val_loss: 3.6505e-04 - val_rmse: 0.0117\n",
      "Epoch 37/80\n",
      " - 3s - loss: 3.7764e-04 - rmse: 0.0120 - val_loss: 3.6501e-04 - val_rmse: 0.0117\n",
      "Epoch 38/80\n",
      " - 3s - loss: 3.7765e-04 - rmse: 0.0120 - val_loss: 3.6497e-04 - val_rmse: 0.0118\n",
      "Epoch 39/80\n",
      " - 3s - loss: 3.7763e-04 - rmse: 0.0120 - val_loss: 3.6494e-04 - val_rmse: 0.0118\n",
      "Epoch 40/80\n",
      " - 3s - loss: 3.7760e-04 - rmse: 0.0120 - val_loss: 3.6500e-04 - val_rmse: 0.0117\n",
      "Epoch 41/80\n",
      " - 3s - loss: 3.7762e-04 - rmse: 0.0120 - val_loss: 3.6500e-04 - val_rmse: 0.0117\n",
      "Epoch 42/80\n",
      " - 4s - loss: 3.7760e-04 - rmse: 0.0120 - val_loss: 3.6503e-04 - val_rmse: 0.0117\n",
      "Epoch 43/80\n",
      " - 3s - loss: 3.7760e-04 - rmse: 0.0120 - val_loss: 3.6502e-04 - val_rmse: 0.0117\n",
      "Epoch 44/80\n",
      " - 3s - loss: 3.7759e-04 - rmse: 0.0120 - val_loss: 3.6502e-04 - val_rmse: 0.0117\n",
      "Epoch 45/80\n",
      " - 3s - loss: 3.7759e-04 - rmse: 0.0120 - val_loss: 3.6500e-04 - val_rmse: 0.0117\n",
      "Epoch 46/80\n",
      " - 3s - loss: 3.7759e-04 - rmse: 0.0120 - val_loss: 3.6499e-04 - val_rmse: 0.0117\n",
      "Epoch 47/80\n",
      " - 4s - loss: 3.7761e-04 - rmse: 0.0120 - val_loss: 3.6499e-04 - val_rmse: 0.0117\n",
      "Epoch 48/80\n",
      " - 4s - loss: 3.7760e-04 - rmse: 0.0120 - val_loss: 3.6500e-04 - val_rmse: 0.0117\n",
      "Epoch 49/80\n",
      " - 3s - loss: 3.7758e-04 - rmse: 0.0120 - val_loss: 3.6497e-04 - val_rmse: 0.0118\n",
      "Epoch 50/80\n",
      " - 3s - loss: 3.7758e-04 - rmse: 0.0120 - val_loss: 3.6500e-04 - val_rmse: 0.0117\n",
      "Epoch 51/80\n",
      " - 3s - loss: 3.7757e-04 - rmse: 0.0120 - val_loss: 3.6498e-04 - val_rmse: 0.0118\n",
      "Epoch 52/80\n",
      " - 4s - loss: 3.7758e-04 - rmse: 0.0120 - val_loss: 3.6500e-04 - val_rmse: 0.0117\n",
      "Epoch 53/80\n",
      " - 4s - loss: 3.7756e-04 - rmse: 0.0120 - val_loss: 3.6504e-04 - val_rmse: 0.0117\n",
      "Epoch 54/80\n",
      " - 3s - loss: 3.7757e-04 - rmse: 0.0120 - val_loss: 3.6500e-04 - val_rmse: 0.0117\n",
      "Epoch 55/80\n",
      " - 3s - loss: 3.7758e-04 - rmse: 0.0120 - val_loss: 3.6497e-04 - val_rmse: 0.0118\n",
      "Epoch 56/80\n",
      " - 3s - loss: 3.7758e-04 - rmse: 0.0120 - val_loss: 3.6493e-04 - val_rmse: 0.0118\n",
      "Epoch 57/80\n",
      " - 4s - loss: 3.7757e-04 - rmse: 0.0120 - val_loss: 3.6494e-04 - val_rmse: 0.0118\n",
      "Epoch 58/80\n",
      " - 4s - loss: 3.7757e-04 - rmse: 0.0120 - val_loss: 3.6486e-04 - val_rmse: 0.0118\n",
      "Epoch 59/80\n",
      " - 4s - loss: 3.7757e-04 - rmse: 0.0120 - val_loss: 3.6475e-04 - val_rmse: 0.0119\n",
      "Epoch 60/80\n",
      " - 4s - loss: 3.7754e-04 - rmse: 0.0120 - val_loss: 3.6475e-04 - val_rmse: 0.0119\n",
      "Epoch 61/80\n",
      " - 3s - loss: 3.7754e-04 - rmse: 0.0120 - val_loss: 3.6470e-04 - val_rmse: 0.0119\n",
      "Epoch 62/80\n",
      " - 3s - loss: 3.7753e-04 - rmse: 0.0120 - val_loss: 3.6469e-04 - val_rmse: 0.0119\n",
      "Epoch 63/80\n",
      " - 3s - loss: 3.7753e-04 - rmse: 0.0120 - val_loss: 3.6468e-04 - val_rmse: 0.0119\n",
      "Epoch 64/80\n",
      " - 4s - loss: 3.7752e-04 - rmse: 0.0120 - val_loss: 3.6470e-04 - val_rmse: 0.0119\n",
      "Epoch 65/80\n",
      " - 4s - loss: 3.7752e-04 - rmse: 0.0120 - val_loss: 3.6468e-04 - val_rmse: 0.0119\n",
      "Epoch 66/80\n",
      " - 4s - loss: 3.7751e-04 - rmse: 0.0120 - val_loss: 3.6467e-04 - val_rmse: 0.0119\n",
      "Epoch 67/80\n",
      " - 3s - loss: 3.7752e-04 - rmse: 0.0120 - val_loss: 3.6468e-04 - val_rmse: 0.0119\n",
      "Epoch 68/80\n",
      " - 3s - loss: 3.7750e-04 - rmse: 0.0120 - val_loss: 3.6468e-04 - val_rmse: 0.0119\n",
      "Epoch 69/80\n",
      " - 4s - loss: 3.7751e-04 - rmse: 0.0120 - val_loss: 3.6467e-04 - val_rmse: 0.0119\n",
      "Epoch 70/80\n",
      " - 4s - loss: 3.7749e-04 - rmse: 0.0120 - val_loss: 3.6466e-04 - val_rmse: 0.0119\n",
      "Epoch 71/80\n",
      " - 4s - loss: 3.7750e-04 - rmse: 0.0120 - val_loss: 3.6467e-04 - val_rmse: 0.0119\n",
      "Epoch 72/80\n",
      " - 4s - loss: 3.7749e-04 - rmse: 0.0120 - val_loss: 3.6467e-04 - val_rmse: 0.0119\n",
      "Epoch 73/80\n",
      " - 3s - loss: 3.7749e-04 - rmse: 0.0120 - val_loss: 3.6467e-04 - val_rmse: 0.0119\n",
      "Epoch 74/80\n",
      " - 4s - loss: 3.7749e-04 - rmse: 0.0120 - val_loss: 3.6467e-04 - val_rmse: 0.0119\n",
      "Epoch 75/80\n",
      " - 3s - loss: 3.7749e-04 - rmse: 0.0120 - val_loss: 3.6467e-04 - val_rmse: 0.0119\n",
      "Epoch 76/80\n",
      " - 3s - loss: 3.7749e-04 - rmse: 0.0120 - val_loss: 3.6467e-04 - val_rmse: 0.0119\n",
      "Epoch 77/80\n",
      " - 3s - loss: 3.7748e-04 - rmse: 0.0120 - val_loss: 3.6468e-04 - val_rmse: 0.0119\n",
      "Epoch 78/80\n",
      " - 4s - loss: 3.7748e-04 - rmse: 0.0120 - val_loss: 3.6468e-04 - val_rmse: 0.0119\n",
      "Epoch 79/80\n",
      " - 4s - loss: 3.7748e-04 - rmse: 0.0120 - val_loss: 3.6467e-04 - val_rmse: 0.0119\n",
      "Epoch 80/80\n",
      " - 4s - loss: 3.7748e-04 - rmse: 0.0120 - val_loss: 3.6467e-04 - val_rmse: 0.0119\n"
     ]
    }
   ],
   "source": [
    "history = model.fit(train_X, train_y, epochs=80, batch_size=7000, validation_data=(test_X, test_y), verbose=2, shuffle=False)"
   ]
  },
  {
   "cell_type": "code",
   "execution_count": 24,
   "metadata": {},
   "outputs": [
    {
     "data": {
      "image/png": "[encoded data removed]",
      "text/plain": [
       "<Figure size 432x288 with 1 Axes>"
      ]
     },
     "metadata": {
      "needs_background": "light"
     },
     "output_type": "display_data"
    }
   ],
   "source": [
    "plt.plot(history.history['loss'])\n",
    "plt.plot(history.history['val_loss'])\n",
    "plt.title('model loss')\n",
    "plt.ylabel('loss')\n",
    "plt.xlabel('epoch')\n",
    "plt.legend(['train', 'test'], loc='upper right')\n",
    "plt.show()"
   ]
  },
  {
   "cell_type": "code",
   "execution_count": 25,
   "metadata": {},
   "outputs": [
    {
     "name": "stdout",
     "output_type": "stream",
     "text": [
      "[[0.02253107]\n",
      " [0.02251942]\n",
      " [0.02253432]\n",
      " ...\n",
      " [0.02250689]\n",
      " [0.02252303]\n",
      " [0.02250643]]\n"
     ]
    }
   ],
   "source": [
    "ypred = model.predict(test_x)\n",
    "print(ypred)"
   ]
  },
  {
   "cell_type": "code",
   "execution_count": 26,
   "metadata": {},
   "outputs": [
    {
     "name": "stdout",
     "output_type": "stream",
     "text": [
      "Test RMSE: 0.019\n"
     ]
    }
   ],
   "source": [
    "rmse = np.sqrt(mean_squared_error(test_y,ypred))\n",
    "print('Test RMSE: %.3f' % rmse)"
   ]
  },
  {
   "cell_type": "code",
   "execution_count": 29,
   "metadata": {
    "scrolled": true
   },
   "outputs": [
    {
     "data": {
      "image/png": "[encoded data removed]",
      "text/plain": [
       "<Figure size 432x288 with 1 Axes>"
      ]
     },
     "metadata": {
      "needs_background": "light"
     },
     "output_type": "display_data"
    }
   ],
   "source": [
    "aa=[x for x in range(200)]\n",
    "plt.plot(aa, test_y[:200], marker='.', label=\"actual\")\n",
    "plt.plot(aa, ypred[:200], 'r', label=\"prediction\")\n",
    "plt.ylabel('Fare', size=15)\n",
    "plt.xlabel('Time step', size=15)\n",
    "plt.legend(fontsize=15)\n",
    "plt.show()"
   ]
  },
  {
   "cell_type": "markdown",
   "metadata": {},
   "source": [
    "# Reference:\n",
    "### https://colah.github.io/posts/2015-08-Understanding-LSTMs/\n",
    "### https://machinelearningmastery.com/convert-time-series-supervised-learning-problem-python/    \n",
    "### https://machinelearningmastery.com/multivariate-time-series-forecasting-lstms-keras/\n"
   ]
  }
 ],
 "metadata": {
  "kernelspec": {
   "display_name": "Python 3",
   "language": "python",
   "name": "python3"
  },
  "language_info": {
   "codemirror_mode": {
    "name": "ipython",
    "version": 3
   },
   "file_extension": ".py",
   "mimetype": "text/x-python",
   "name": "python",
   "nbconvert_exporter": "python",
   "pygments_lexer": "ipython3",
   "version": "3.7.4"
  }
 },
 "nbformat": 4,
 "nbformat_minor": 2
}
